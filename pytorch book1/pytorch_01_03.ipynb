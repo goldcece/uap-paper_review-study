{
  "nbformat": 4,
  "nbformat_minor": 0,
  "metadata": {
    "colab": {
      "provenance": [],
      "authorship_tag": "ABX9TyMegxKFmhrc25lDXs5sX/NQ",
      "include_colab_link": true
    },
    "kernelspec": {
      "name": "python3",
      "display_name": "Python 3"
    },
    "language_info": {
      "name": "python"
    }
  },
  "cells": [
    {
      "cell_type": "markdown",
      "metadata": {
        "id": "view-in-github",
        "colab_type": "text"
      },
      "source": [
        "<a href=\"https://colab.research.google.com/github/goldcece/uap-paper_review-study/blob/main/pytorch_01_03.ipynb\" target=\"_parent\"><img src=\"https://colab.research.google.com/assets/colab-badge.svg\" alt=\"Open In Colab\"/></a>"
      ]
    },
    {
      "cell_type": "code",
      "execution_count": null,
      "metadata": {
        "id": "EXen3bsZx_QW"
      },
      "outputs": [],
      "source": [
        "! pip list # 코랩 환경에서 설치된 패키지 목록 표시"
      ]
    },
    {
      "cell_type": "markdown",
      "source": [
        "### Tensor"
      ],
      "metadata": {
        "id": "2Hnd8IlDYIs4"
      }
    },
    {
      "cell_type": "code",
      "source": [
        "import torch"
      ],
      "metadata": {
        "id": "tnUldqld4lg3"
      },
      "execution_count": null,
      "outputs": []
    },
    {
      "cell_type": "code",
      "source": [
        "a = torch.tensor([1,2,3])\n",
        "print(a, type(a))"
      ],
      "metadata": {
        "colab": {
          "base_uri": "https://localhost:8080/"
        },
        "id": "WkVYCDVL43zk",
        "outputId": "d60c9705-84a5-46fb-e666-745d50d67cde"
      },
      "execution_count": null,
      "outputs": [
        {
          "output_type": "stream",
          "name": "stdout",
          "text": [
            "tensor([1, 2, 3]) <class 'torch.Tensor'>\n"
          ]
        }
      ]
    },
    {
      "cell_type": "code",
      "source": [
        "# 다양한 방법으로 tensor 생성하기\n",
        "print(\"---2차원 리스트로부터 생성---\")\n",
        "\n",
        "b = torch.tensor([[1,2],\n",
        "                  [3,4]])\n",
        "print(b,'\\n')\n",
        "\n",
        "print(\"---dtype을 지정하고, 배정도의 Tensor로 한다 ---\")\n",
        "c = torch.tensor([[1,2],\n",
        "                  [3,4]], dtype=torch.float64)\n",
        "print(c, '\\n')\n",
        "\n",
        "\n",
        "print(\"--- 0부터 9까지 수치로 초기화---\")\n",
        "d = torch.arange(0, 10)\n",
        "print(d, '\\n')\n",
        "\n",
        "print(\"---모든 값이 0인 2x3 인 Tensor---\")\n",
        "e = torch.zeros(2,3)\n",
        "print(e, '\\n')\n",
        "\n",
        "print(\"---모든 값이 난수인 2x3인 Tensor---\")\n",
        "f = torch.rand(2, 3)\n",
        "print(f, '\\n')\n",
        "\n",
        "print(\"---Tensor 의 형태는 size 메서드로 취득---\")\n",
        "print(f.size())"
      ],
      "metadata": {
        "colab": {
          "base_uri": "https://localhost:8080/"
        },
        "id": "f5Cun2wk48OE",
        "outputId": "b83414e3-d8e8-42be-bbde-d5b37535e134"
      },
      "execution_count": null,
      "outputs": [
        {
          "output_type": "stream",
          "name": "stdout",
          "text": [
            "---2차원 리스트로부터 생성---\n",
            "tensor([[1, 2],\n",
            "        [3, 4]]) \n",
            "\n",
            "---dtype을 지정하고, 배정도의 Tensor로 한다 ---\n",
            "tensor([[1., 2.],\n",
            "        [3., 4.]], dtype=torch.float64) \n",
            "\n",
            "--- 0부터 9까지 수치로 초기화---\n",
            "tensor([0, 1, 2, 3, 4, 5, 6, 7, 8, 9]) \n",
            "\n",
            "---모든 값이 0인 2x3 인 Tensor---\n",
            "tensor([[0., 0., 0.],\n",
            "        [0., 0., 0.]]) \n",
            "\n",
            "---모든 값이 난수인 2x3인 Tensor---\n",
            "tensor([[0.4298, 0.0854, 0.0833],\n",
            "        [0.5158, 0.7477, 0.4746]]) \n",
            "\n",
            "---Tensor 의 형태는 size 메서드로 취득---\n",
            "torch.Size([2, 3])\n"
          ]
        }
      ]
    },
    {
      "cell_type": "code",
      "source": [
        "# linspace() 함수로 Tensor 생성하기 : 지정한 범위에서 연속값을 생성(그래프 가로축 등에 사용)\n",
        "\n",
        "print(\"--- -5부터 5까지 연속값을 10개 생성 ---\")\n",
        "g = torch.linspace(-5, 5, 10)\n",
        "print(g)"
      ],
      "metadata": {
        "colab": {
          "base_uri": "https://localhost:8080/"
        },
        "id": "7gRXeAkN50jM",
        "outputId": "98c3e5a0-0575-4cb6-b721-3b394a1a0b59"
      },
      "execution_count": null,
      "outputs": [
        {
          "output_type": "stream",
          "name": "stdout",
          "text": [
            "--- -5부터 5까지 연속값을 10개 생성 ---\n",
            "tensor([-5.0000, -3.8889, -2.7778, -1.6667, -0.5556,  0.5556,  1.6667,  2.7778,\n",
            "         3.8889,  5.0000])\n"
          ]
        }
      ]
    },
    {
      "cell_type": "markdown",
      "source": [
        "- Tensor 를 Numpy 배열로 변환하기\n",
        "  - numpy() 사용\n",
        "\n",
        "- Numpy 배열을 Tensor 로 변환하기\n",
        "  - from_numpy()"
      ],
      "metadata": {
        "id": "gDtgEzqo6XYh"
      }
    },
    {
      "cell_type": "code",
      "source": [
        "print(\"--- Tensor -> Numpy ---\")\n",
        "a = torch.tensor([[1,2],\n",
        "                  [3,4]])\n",
        "print(a, '\\n')\n",
        "\n",
        "b = a.numpy()\n",
        "print(\"result: \", b, '\\n')\n",
        "\n",
        "print(\"--- Numpy -> Tensor---\")\n",
        "c = torch.from_numpy(b)\n",
        "print(c)"
      ],
      "metadata": {
        "colab": {
          "base_uri": "https://localhost:8080/"
        },
        "id": "i6Ht7_9W6ScA",
        "outputId": "a674ce83-a7f1-4e9c-be3c-bad3f447cc6d"
      },
      "execution_count": null,
      "outputs": [
        {
          "output_type": "stream",
          "name": "stdout",
          "text": [
            "--- Tensor -> Numpy ---\n",
            "tensor([[1, 2],\n",
            "        [3, 4]]) \n",
            "\n",
            "result:  [[1 2]\n",
            " [3 4]] \n",
            "\n",
            "--- Numpy -> Tensor---\n",
            "tensor([[1, 2],\n",
            "        [3, 4]])\n"
          ]
        }
      ]
    },
    {
      "cell_type": "code",
      "source": [
        "# 범위를 지정하여 Tensor의 일부에 접근\n",
        "\n",
        "a = torch.tensor([[1, 2, 3],\n",
        "                  [4, 5, 6]])\n",
        "\n",
        "print(\"--- 2개의 인덱스를 지정 ---\")\n",
        "print(a[0, 1], '\\n')\n",
        "\n",
        "print(\"--- 범위를 지정 ---\") # ??\n",
        "print(a[1:2, :2], '\\n')\n",
        "\n",
        "print(\"--- 리스트로 여러개의 인덱스를 지정 ---\")\n",
        "print(a[:, [0, 2]], '\\n')\n",
        "\n",
        "print(\"--- 3보다 큰 요소만을 지정 ---\")\n",
        "print(a[a>3], '\\n')\n",
        "\n",
        "print(\"--- 요소의 변경 ---\")\n",
        "a[0, 2] = 11\n",
        "print(a)\n",
        "\n",
        "print(\"--- 요소의 일괄 변경 ---\")\n",
        "a[:, 1] = 22\n",
        "print(a, '\\n')\n",
        "\n",
        "print(\"--- 10보다 큰 요소만 변경 ---\")\n",
        "a[a>10] = 33\n",
        "print(a)\n",
        "\n"
      ],
      "metadata": {
        "colab": {
          "base_uri": "https://localhost:8080/"
        },
        "id": "bi3gXDES66_9",
        "outputId": "6c0078d1-5a1b-46ab-c7c3-ca823eac2625"
      },
      "execution_count": null,
      "outputs": [
        {
          "output_type": "stream",
          "name": "stdout",
          "text": [
            "--- 2개의 인덱스를 지정 ---\n",
            "tensor(2) \n",
            "\n",
            "--- 범위를 지정 ---\n",
            "tensor([[4, 5]]) \n",
            "\n",
            "--- 리스트로 여러개의 인덱스를 지정 ---\n",
            "tensor([[1, 3],\n",
            "        [4, 6]]) \n",
            "\n",
            "--- 3보다 큰 요소만을 지정 ---\n",
            "tensor([4, 5, 6]) \n",
            "\n",
            "--- 요소의 변경 ---\n",
            "tensor([[ 1,  2, 11],\n",
            "        [ 4,  5,  6]])\n",
            "--- 요소의 일괄 변경 ---\n",
            "tensor([[ 1, 22, 11],\n",
            "        [ 4, 22,  6]]) \n",
            "\n",
            "--- 10보다 큰 요소만 변경 ---\n",
            "tensor([[ 1, 33, 33],\n",
            "        [ 4, 33,  6]])\n"
          ]
        }
      ]
    },
    {
      "cell_type": "code",
      "source": [
        "# Tensor 의 연산\n",
        "\n",
        "# vector\n",
        "a = torch.tensor([1, 2, 3])\n",
        "b = torch.tensor([4, 5, 6])\n",
        "\n",
        "# matrix\n",
        "c = torch.tensor([[6, 5, 4],\n",
        "                 [3, 2, 1]])\n",
        "\n",
        "print(\"--- 벡터와 스칼라의 연산 ---\")\n",
        "print(a + 3) # [3, 5, 6]\n",
        "\n",
        "print(\"--- 벡터끼리의 연산 ---\")\n",
        "print(a + b) # [5, 7, 9]\n",
        "\n",
        "print('--- 행렬과 스칼라의 연산 ---')\n",
        "print(c + 2) # [[8, 7, 6], [5, 4, 3]]\n",
        "\n",
        "print(\"--- 행렬과 벡터의 연산(브로드캐스트) ---\")\n",
        "print(c + a) # [?]\n"
      ],
      "metadata": {
        "colab": {
          "base_uri": "https://localhost:8080/"
        },
        "id": "58ZOWdh8_PRt",
        "outputId": "3ea8aaf5-49bd-4e42-8bba-2f3c6afedd2c"
      },
      "execution_count": null,
      "outputs": [
        {
          "output_type": "stream",
          "name": "stdout",
          "text": [
            "--- 벡터와 스칼라의 연산 ---\n",
            "tensor([4, 5, 6])\n",
            "--- 벡터끼리의 연산 ---\n",
            "tensor([5, 7, 9])\n",
            "--- 행렬과 스칼라의 연산 ---\n",
            "tensor([[8, 7, 6],\n",
            "        [5, 4, 3]])\n",
            "--- 행렬과 벡터의 연산(브로드캐스트) ---\n",
            "tensor([[7, 7, 7],\n",
            "        [4, 4, 4]])\n"
          ]
        }
      ]
    },
    {
      "cell_type": "code",
      "source": [
        "# Tensor 형태 변환하기 : view()\n",
        "a = torch.tensor([0, 1, 2, 3, 4, 5, 6, 7]) # 1차원\n",
        "\n",
        "b = a.view(2, 4) # (2, 4) 2차원 tensor 로 변환\n",
        "\n",
        "print(b)\n"
      ],
      "metadata": {
        "colab": {
          "base_uri": "https://localhost:8080/"
        },
        "id": "jaoZ2g17_hMB",
        "outputId": "0a60a6a2-423e-466b-c997-8f9331890f1d"
      },
      "execution_count": null,
      "outputs": [
        {
          "output_type": "stream",
          "name": "stdout",
          "text": [
            "tensor([[0, 1, 2, 3],\n",
            "        [4, 5, 6, 7]])\n"
          ]
        }
      ]
    },
    {
      "cell_type": "code",
      "source": [
        "#\n",
        "c = torch.tensor([0, 1, 2, 3, 4, 5, 6, 7])\n",
        "d = c.view(2, -1) # view() 메서드 인수에 -1 을 쓸 경우 그 차원의 요소 수는 자동 계산됨\n",
        "\n",
        "print(d)"
      ],
      "metadata": {
        "colab": {
          "base_uri": "https://localhost:8080/"
        },
        "id": "dlTSnPAFD07h",
        "outputId": "a7207abc-c91d-44d2-b483-b0f74dba5043"
      },
      "execution_count": null,
      "outputs": [
        {
          "output_type": "stream",
          "name": "stdout",
          "text": [
            "tensor([[0, 1, 2, 3],\n",
            "        [4, 5, 6, 7]])\n"
          ]
        }
      ]
    },
    {
      "cell_type": "code",
      "source": [
        "e = torch.tensor([[[0, 1],\n",
        "                   [2, 3]],\n",
        "                  [[4, 5],\n",
        "                   [6, 7]]]) # 3차원 텐서\n",
        "\n",
        "f = c.view(-1) # 인수로 -1 만 쓰면 -> 1차원으로 변환\n",
        "print(f)\n",
        "print(e)"
      ],
      "metadata": {
        "colab": {
          "base_uri": "https://localhost:8080/"
        },
        "id": "M-jpHnCcEGrr",
        "outputId": "0740c66a-ad2a-448c-d3e0-d09546a12d43"
      },
      "execution_count": null,
      "outputs": [
        {
          "output_type": "stream",
          "name": "stdout",
          "text": [
            "tensor([0, 1, 2, 3, 4, 5, 6, 7])\n",
            "tensor([[[0, 1],\n",
            "         [2, 3]],\n",
            "\n",
            "        [[4, 5],\n",
            "         [6, 7]]])\n"
          ]
        }
      ]
    },
    {
      "cell_type": "code",
      "source": [
        "# squeeze() : 요소수가 1인 차원이 삭제됨\n",
        "\n",
        "print(\"--- 요소 수가 1인 차원이 포함되는 4차원 Tensor ---\")\n",
        "g = torch.arange(0, 8).view(1, 2, 1, 4)\n",
        "print(g)\n",
        "\n",
        "print(\"--- 요소 수가 1인 차원을 삭제 ---\")\n",
        "h = g.squeeze()\n",
        "print(h)"
      ],
      "metadata": {
        "colab": {
          "base_uri": "https://localhost:8080/"
        },
        "id": "wH-nRjM-EXzi",
        "outputId": "17f23a49-f443-4229-b706-6fb40739ac1e"
      },
      "execution_count": null,
      "outputs": [
        {
          "output_type": "stream",
          "name": "stdout",
          "text": [
            "--- 요소 수가 1인 차원이 포함되는 4차원 Tensor ---\n",
            "tensor([[[[0, 1, 2, 3]],\n",
            "\n",
            "         [[4, 5, 6, 7]]]])\n",
            "--- 요소 수가 1인 차원을 삭제 ---\n",
            "tensor([[0, 1, 2, 3],\n",
            "        [4, 5, 6, 7]])\n"
          ]
        }
      ]
    },
    {
      "cell_type": "code",
      "source": [
        "# unsqueeze() : 요소수가 1인 차원을 추가하기\n",
        "\n",
        "print(\"--- 2차원 tensor ---\")\n",
        "i = torch.arange(0, 8).view(2, -1)\n",
        "print(i)\n",
        "\n",
        "print(\"--- 요소 수가 1인 차원을 가장 안쪽(2)에 추가 ---\")\n",
        "j = i.unsqueeze(2)\n",
        "print(j)\n",
        "\n",
        "k = i.unsqueeze(1) # ???\n",
        "print(k)\n"
      ],
      "metadata": {
        "colab": {
          "base_uri": "https://localhost:8080/"
        },
        "id": "TgBSDPguEyHF",
        "outputId": "b567834b-5449-403c-ee39-6af116ac2f53"
      },
      "execution_count": null,
      "outputs": [
        {
          "output_type": "stream",
          "name": "stdout",
          "text": [
            "--- 2차원 tensor ---\n",
            "tensor([[0, 1, 2, 3],\n",
            "        [4, 5, 6, 7]])\n",
            "--- 요소 수가 1인 차원을 가장 안쪽(2)에 추가 ---\n",
            "tensor([[[0],\n",
            "         [1],\n",
            "         [2],\n",
            "         [3]],\n",
            "\n",
            "        [[4],\n",
            "         [5],\n",
            "         [6],\n",
            "         [7]]])\n",
            "tensor([[[0, 1, 2, 3]],\n",
            "\n",
            "        [[4, 5, 6, 7]]])\n"
          ]
        }
      ]
    },
    {
      "cell_type": "code",
      "source": [
        "# 다양한 통계값 계산 : itme() 메서드\n",
        "\n",
        "a = torch.tensor([[1, 2, 3.],\n",
        "                  [4, 5, 6.]])\n",
        "\n",
        "print(\"--- 평균값을 구하는 함수 ---\")\n",
        "m = torch.mean(a)\n",
        "print(m)\n",
        "print(m.item()) # item 으로 값을 구함"
      ],
      "metadata": {
        "colab": {
          "base_uri": "https://localhost:8080/"
        },
        "id": "KhXPbAmVE6Zh",
        "outputId": "d72e9d6f-0584-4ca8-93e5-31a775f839c6"
      },
      "execution_count": null,
      "outputs": [
        {
          "output_type": "stream",
          "name": "stdout",
          "text": [
            "--- 평균값을 구하는 함수 ---\n",
            "tensor(3.5000)\n",
            "3.5\n"
          ]
        }
      ]
    },
    {
      "cell_type": "code",
      "source": [
        "print(\"--- 평균값을 구하는 메서드 ---\")\n",
        "m = a.mean()\n",
        "print(m.item())\n",
        "\n",
        "print(\"--- 열 별 평균값 ---\")\n",
        "print(a.mean(0))\n",
        "\n",
        "print(\" --- 행 별 평균값 ---\")\n",
        "print(a.mean(1))\n",
        "\n",
        "print(\"--- 합계값 ---\")\n",
        "print(torch.sum(a).item())\n",
        "\n",
        "print(\"--- 최대값 ---\")\n",
        "print(torch.max(a).item())\n",
        "\n",
        "print(\"--- 최소값 ---\")\n",
        "print(torch.min(a).item())"
      ],
      "metadata": {
        "colab": {
          "base_uri": "https://localhost:8080/"
        },
        "id": "ZmJYBBJpHfQY",
        "outputId": "da42d8ec-4093-4e5b-cc44-2ed61fcf988e"
      },
      "execution_count": null,
      "outputs": [
        {
          "output_type": "stream",
          "name": "stdout",
          "text": [
            "--- 평균값을 구하는 메서드 ---\n",
            "3.5\n",
            "--- 열 별 평균값 ---\n",
            "tensor([2.5000, 3.5000, 4.5000])\n",
            " --- 행 별 평균값 ---\n",
            "tensor([2., 5.])\n",
            "--- 합계값 ---\n",
            "21.0\n",
            "--- 최대값 ---\n",
            "6.0\n",
            "--- 최소값 ---\n",
            "1.0\n"
          ]
        }
      ]
    },
    {
      "cell_type": "code",
      "source": [
        "# 간단 연습 : Tensor 끼리의 연산\n",
        "\"\"\"\n",
        "덧셈 : +\n",
        "뺄셈 : -\n",
        "곱셈 : *\n",
        "몫(소수) : /\n",
        "몫(정수) : //\n",
        "나머지 : %\n",
        "\n",
        "a 는 2차원이고 b 는 1차원이므로 브로드캐스트 해야 함\n",
        "\"\"\"\n",
        "\n",
        "a = torch.tensor([[1, 2, 3],\n",
        "                  [4, 5, 6]])\n",
        "\n",
        "b = torch.tensor([1, 2, 3])\n",
        "\n",
        "\n",
        "print(\"--- 합 ---\")\n",
        "print(a + b) # [[2, 4, 5], [5, 7, 9]]\n",
        "\n",
        "\n",
        "print(\"--- 차 ---\")\n",
        "print(a - b) # [[0, 0 , 0], [3, 3, 3]]\n",
        "\n",
        "\n",
        "print(\"--- 곱 ---\")\n",
        "print(a * b) # [[1, 4, 9], [4, 10, 18]]\n",
        "\n",
        "\n",
        "print(\"--- 몫(소수) ---\")\n",
        "print(a / b) # [[1, 1, 1], [4, 2.5, 2]]\n",
        "\n",
        "\n",
        "print(\"--- 몫(정수) ---\")\n",
        "print(a // b) # [[1, 1, 1], [4, 2, 2]]\n",
        "\n",
        "\n",
        "print(\"--- 나머지 ---\")\n",
        "print(a % b) # [[0, 0, 0], [0, 1, 0]]"
      ],
      "metadata": {
        "colab": {
          "base_uri": "https://localhost:8080/"
        },
        "id": "SB-rkSsNIELc",
        "outputId": "d132248c-1b1d-45d8-dafb-38be946e0ea8"
      },
      "execution_count": null,
      "outputs": [
        {
          "output_type": "stream",
          "name": "stdout",
          "text": [
            "--- 합 ---\n",
            "tensor([[2, 4, 6],\n",
            "        [5, 7, 9]])\n",
            "--- 차 ---\n",
            "tensor([[0, 0, 0],\n",
            "        [3, 3, 3]])\n",
            "--- 곱 ---\n",
            "tensor([[ 1,  4,  9],\n",
            "        [ 4, 10, 18]])\n",
            "--- 몫(소수) ---\n",
            "tensor([[1.0000, 1.0000, 1.0000],\n",
            "        [4.0000, 2.5000, 2.0000]])\n",
            "--- 몫(정수) ---\n",
            "tensor([[1, 1, 1],\n",
            "        [4, 2, 2]])\n",
            "--- 나머지 ---\n",
            "tensor([[0, 0, 0],\n",
            "        [0, 1, 0]])\n"
          ]
        }
      ]
    },
    {
      "cell_type": "markdown",
      "source": [
        "### 활성화 함수"
      ],
      "metadata": {
        "id": "I9fQtQtZpDyu"
      }
    },
    {
      "cell_type": "code",
      "source": [
        "# Sigmoid\n",
        "\n",
        "import torch\n",
        "from torch import nn\n",
        "import matplotlib.pyplot as plt\n",
        "\n",
        "m = nn.Sigmoid()\n",
        "\n",
        "x = torch.linspace(-5, 5, 50)\n",
        "y = m(x)\n",
        "\n",
        "plt.plot(x, y)\n",
        "plt.show()"
      ],
      "metadata": {
        "id": "Dc9uQGGvJez2",
        "colab": {
          "base_uri": "https://localhost:8080/",
          "height": 430
        },
        "outputId": "9b648334-9893-4d12-949c-c96dc849a289"
      },
      "execution_count": null,
      "outputs": [
        {
          "output_type": "display_data",
          "data": {
            "text/plain": [
              "<Figure size 640x480 with 1 Axes>"
            ],
            "image/png": "[encoded data removed]"
          },
          "metadata": {}
        }
      ]
    },
    {
      "cell_type": "code",
      "source": [
        "# 또다른 방법\n",
        "\n",
        "import torch\n",
        "import matplotlib.pyplot as plt\n",
        "\n",
        "x = torch.linspace(-5, 5, 50)\n",
        "y = torch.sigmoid(x)\n",
        "\n",
        "plt.plot(x, y)\n",
        "plt.show()"
      ],
      "metadata": {
        "colab": {
          "base_uri": "https://localhost:8080/",
          "height": 430
        },
        "id": "iag7p-fIVLIS",
        "outputId": "b16ce728-04d3-48ce-894d-d5a6f9c0f0a4"
      },
      "execution_count": null,
      "outputs": [
        {
          "output_type": "display_data",
          "data": {
            "text/plain": [
              "<Figure size 640x480 with 1 Axes>"
            ],
            "image/png": "[encoded data removed]"
          },
          "metadata": {}
        }
      ]
    },
    {
      "cell_type": "code",
      "source": [
        "# tanh\n",
        "\n",
        "m = nn.Tanh() # tanh\n",
        "\n",
        "x = torch.linspace(-5, 5, 50)\n",
        "y = m(x)\n",
        "\n",
        "plt.plot(x, y)\n",
        "plt.show()"
      ],
      "metadata": {
        "id": "ThIl9qoWpWN-",
        "colab": {
          "base_uri": "https://localhost:8080/",
          "height": 430
        },
        "outputId": "8723fd19-8218-49fb-93cd-b32dadb9688b"
      },
      "execution_count": null,
      "outputs": [
        {
          "output_type": "display_data",
          "data": {
            "text/plain": [
              "<Figure size 640x480 with 1 Axes>"
            ],
            "image/png": "[encoded data removed]"
          },
          "metadata": {}
        }
      ]
    },
    {
      "cell_type": "code",
      "source": [
        "# ReLU : x=< -> 0, x>0 -> x (간단하고, 층 수가 많아져도 안정적으로 학습가능)\n",
        "\n",
        "m = nn.ReLU()\n",
        "\n",
        "x = torch.linspace(-5, 5, 50)\n",
        "y = m(x)\n",
        "\n",
        "plt.plot(x, y)\n",
        "plt.show()"
      ],
      "metadata": {
        "colab": {
          "base_uri": "https://localhost:8080/",
          "height": 430
        },
        "id": "bfcaO1EfO-01",
        "outputId": "e310e6d8-fd10-4eff-b56f-08bc77b6528b"
      },
      "execution_count": null,
      "outputs": [
        {
          "output_type": "display_data",
          "data": {
            "text/plain": [
              "<Figure size 640x480 with 1 Axes>"
            ],
            "image/png": "[encoded data removed]"
          },
          "metadata": {}
        }
      ]
    },
    {
      "cell_type": "code",
      "source": [
        "# 항등함수 identity function : y = x ; 입력값을 그대로 출력값으로 반환하는 함수(직선, 모든 입력값에 대해 동일한 값 출력)\n",
        "\n",
        "x = torch.linspace(-5, 5, 50)\n",
        "y = x\n",
        "\n",
        "plt.plot(x, y)\n",
        "plt.show()\n",
        "\n"
      ],
      "metadata": {
        "colab": {
          "base_uri": "https://localhost:8080/",
          "height": 430
        },
        "id": "nsoP_-8PPjw7",
        "outputId": "c063d3d5-ea1a-4613-ebe0-5cb7434f4868"
      },
      "execution_count": null,
      "outputs": [
        {
          "output_type": "display_data",
          "data": {
            "text/plain": [
              "<Figure size 640x480 with 1 Axes>"
            ],
            "image/png": "[encoded data removed]"
          },
          "metadata": {}
        }
      ]
    },
    {
      "cell_type": "code",
      "source": [
        "# Softmax\n",
        "\"\"\"\n",
        "신경망에서 분류 작업(다중클래스 분류)을 수행할 때 주로 사용되는 함수\n",
        "입력된 값들을 각 클래스에 대한 확률로 변환하는 역할 ; 지수함수를 통해 양수로 변환하고 이들을 모두 더한 값으로 각 클래스에 대한 확률을 계산함.\n",
        "출력값 => 각 클래스에 대한 확률분포로 해석 가능 ; 신경망 출력층에서 사용됨\n",
        "dim= 을 설정하여 소프트맥스 함수에서 처리하는 방향을 지정해야 함 ; dim=1(행끼리, 열방향으로) dim=0(열끼리, 행방향으로)\n",
        "\"\"\"\n",
        "m = nn.Softmax(dim=1) # 각 행에서 소프트맥스 함수\n",
        "n = nn.Softmax(dim=0)\n",
        "\n",
        "x = torch.tensor([[1.0, 2.0, 3.0],\n",
        "                  [3.0, 2.0, 1.0]])\n",
        "\n",
        "y = m(x)\n",
        "y1 = n(x)\n",
        "\n",
        "print(y)\n",
        "print(y1)"
      ],
      "metadata": {
        "colab": {
          "base_uri": "https://localhost:8080/"
        },
        "id": "U1hNdSeKQKn-",
        "outputId": "dc52fdbd-b8ad-42c9-9e2b-926467ac3b5d"
      },
      "execution_count": null,
      "outputs": [
        {
          "output_type": "stream",
          "name": "stdout",
          "text": [
            "tensor([[0.0900, 0.2447, 0.6652],\n",
            "        [0.6652, 0.2447, 0.0900]])\n",
            "tensor([[0.1192, 0.5000, 0.8808],\n",
            "        [0.8808, 0.5000, 0.1192]])\n"
          ]
        }
      ]
    },
    {
      "cell_type": "markdown",
      "source": [
        "### 손실함수\n",
        "\n",
        "- 손실함수는 출력과 정답 사이의 오차를 정의하는 함수이다.\n",
        "- MSE, Cross Entropy"
      ],
      "metadata": {
        "id": "RL_tE00FdN4x"
      }
    },
    {
      "cell_type": "code",
      "source": [
        "# MSE : 평균 제곱 오차\n",
        "\"\"\"\n",
        "MSE = 합계[(출력값y_k - 정답값t_k = 오차E )^2] / 출력층의 뉴런 수 n\n",
        "정답과 출력이 연속적인 값으로 나타나는 경우에 적합\n",
        "torch.nn.MSELoss()\n",
        "\"\"\"\n",
        "\n",
        "y = torch.tensor([3.0, 3.0, 3.0, 3.0, 3.0]) # 출력\n",
        "t = torch.tensor([2.0, 2.0, 2.0, 2.0, 2.0]) # 정답\n",
        "\n",
        "loss_func = nn.MSELoss() # 평균제곱오차\n",
        "loss = loss_func(y, t)\n",
        "print(loss.item())"
      ],
      "metadata": {
        "colab": {
          "base_uri": "https://localhost:8080/"
        },
        "id": "J7spVg6wRdZS",
        "outputId": "01f1dac2-be43-4ebc-d1a1-52afb500881b"
      },
      "execution_count": null,
      "outputs": [
        {
          "output_type": "stream",
          "name": "stdout",
          "text": [
            "1.0\n"
          ]
        }
      ]
    },
    {
      "cell_type": "code",
      "source": [
        "# Cross-Entropy Loss\n",
        "\"\"\"\n",
        "신경망에서 분류작업을 수행할 때 주로 사용되는 손실함수\n",
        "정답은 one-hot 표현으로 나타냄, 1의 위치를 인덱스로 지정함\n",
        "[소프트맥스 함수 + 크로스엔트로피 오차] 형태임\n",
        "\"\"\"\n",
        "\n",
        "import torch\n",
        "from torch import nn\n",
        "\n",
        "# 소프트맥스 함수로의 입력\n",
        "x = torch.tensor([[1.0, 2.0, 3.0], # 입력 1\n",
        "                  [3.0, 1.0, 2.0]]) # 입력 2\n",
        "\n",
        "# 정답(one-hot 표현에서 1의 위치)\n",
        "t = torch.tensor([2, # 입력 1에 대응하는 정답\n",
        "                  0]) # 입력 2에 대응하는 정답\n",
        "\n",
        "loss_func = nn.CrossEntropyLoss() # 소프트맥스 함수 + 크로스엔트로피 오차\n",
        "loss = loss_func(x, t)\n",
        "print(loss.item())\n",
        "\n",
        "\n"
      ],
      "metadata": {
        "id": "z5VRr-JjhXor",
        "colab": {
          "base_uri": "https://localhost:8080/"
        },
        "outputId": "adde7d80-0585-4bcd-d8b8-1d480b4c0d72"
      },
      "execution_count": null,
      "outputs": [
        {
          "output_type": "stream",
          "name": "stdout",
          "text": [
            "0.40760600566864014\n"
          ]
        }
      ]
    },
    {
      "cell_type": "markdown",
      "source": [
        "### Optim"
      ],
      "metadata": {
        "id": "7aGc20A4uzPV"
      }
    },
    {
      "cell_type": "code",
      "source": [
        "# SGD : Stochastic Gradient Descent 확률적 경사 하강법\n",
        "\n",
        "from torch import optim\n",
        "\n",
        "optimizer = optim.SDG(...)"
      ],
      "metadata": {
        "id": "UilpsC8GXkPm"
      },
      "execution_count": null,
      "outputs": []
    },
    {
      "cell_type": "code",
      "source": [
        "# Momentum : SGD + 관성항 -> 갱신량의 급격한 변화를 막고 파라미터 갱신이 매끄러워 짐.\n",
        "\n",
        "from torch import optim\n",
        "\n",
        "optimizer = optim.SGD(..., momentum=0.9)"
      ],
      "metadata": {
        "id": "2bdR25V7vpgH"
      },
      "execution_count": null,
      "outputs": []
    },
    {
      "cell_type": "code",
      "source": [
        "# Ada grad : 갱신량의 자동 조절. 갱신이 많은 파라미터는 새로운 갱신량이 작아짐(분모)\n",
        "\n",
        "from torch import optim\n",
        "\n",
        "optimizer = optim.Adagrad(...)"
      ],
      "metadata": {
        "id": "L1MzjoPhv7gd"
      },
      "execution_count": null,
      "outputs": []
    },
    {
      "cell_type": "code",
      "source": [
        "# RMSprop : Ada grad 의 학습정체 문제 극복.\n",
        "  # 로에 의해 과거의 h를 일정 비율로 망각하여 갱신량이 저하된 파라미터라도 다시 학습이 진행된다.\n",
        "from torch import optim\n",
        "\n",
        "optimizer = optim.RMSprop(...)"
      ],
      "metadata": {
        "id": "10sPT98Xx7ht"
      },
      "execution_count": null,
      "outputs": []
    },
    {
      "cell_type": "code",
      "source": [
        "# Adam : 종결자\n",
        "\n",
        "from torch import optim\n",
        "\n",
        "optimizer = optim.Adam(...)"
      ],
      "metadata": {
        "id": "dmkGi5n3yjDq"
      },
      "execution_count": null,
      "outputs": []
    },
    {
      "cell_type": "markdown",
      "source": [
        "## 간단한 심층학습의 구현"
      ],
      "metadata": {
        "id": "KVNbykGByqqw"
      }
    },
    {
      "cell_type": "markdown",
      "source": [
        "### 손글씨 문자 이미지의 확인"
      ],
      "metadata": {
        "id": "_vWBTHdEyxyL"
      }
    },
    {
      "cell_type": "code",
      "source": [
        "import matplotlib.pyplot as plt\n",
        "from sklearn import datasets\n",
        "\n",
        "digits_data = datasets.load_digits()\n",
        "\n",
        "n_img = 10 # 표시하는 이미지의 수\n",
        "plt.figure(figsize = (10, 4))\n",
        "for i in range(n_img) :\n",
        "  ax = plt.subplot(2, 5, i+1)\n",
        "  ax.imshow(digits_data.data[i].reshape(8, 8), cmap=\"Greys_r\")\n",
        "  ax.get_xaxis().set_visible(False) # 축을 표시하지 않음\n",
        "  ax.get_yaxis().set_visible(False)\n",
        "\n",
        "plt.show()\n",
        "\n",
        "print(\"데이터의 형태: \", digits_data.data.shape ) # 8*8 픽셀, 0~9 까지의 손글씨 숫자 이미지가 1797장\n",
        "print(\"라벨: \", digits_data.target[:n_img]) # 정답"
      ],
      "metadata": {
        "colab": {
          "base_uri": "https://localhost:8080/",
          "height": 367
        },
        "id": "SFfHZC-_yqOX",
        "outputId": "6eacaf61-73f2-47a9-dd3d-60abffa0888c"
      },
      "execution_count": null,
      "outputs": [
        {
          "output_type": "display_data",
          "data": {
            "text/plain": [
              "<Figure size 1000x400 with 10 Axes>"
            ],
            "image/png": "[encoded data removed]"
          },
          "metadata": {}
        },
        {
          "output_type": "stream",
          "name": "stdout",
          "text": [
            "데이터의 형태:  (1797, 64)\n",
            "라벨:  [0 1 2 3 4 5 6 7 8 9]\n"
          ]
        }
      ]
    },
    {
      "cell_type": "code",
      "source": [
        "digits_data.data[1]"
      ],
      "metadata": {
        "colab": {
          "base_uri": "https://localhost:8080/"
        },
        "id": "_fvxIHrP2COD",
        "outputId": "f871d35a-fc5d-46b6-c782-2d1d2419dc80"
      },
      "execution_count": null,
      "outputs": [
        {
          "output_type": "execute_result",
          "data": {
            "text/plain": [
              "array([ 0.,  0.,  0., 12., 13.,  5.,  0.,  0.,  0.,  0.,  0., 11., 16.,\n",
              "        9.,  0.,  0.,  0.,  0.,  3., 15., 16.,  6.,  0.,  0.,  0.,  7.,\n",
              "       15., 16., 16.,  2.,  0.,  0.,  0.,  0.,  1., 16., 16.,  3.,  0.,\n",
              "        0.,  0.,  0.,  1., 16., 16.,  6.,  0.,  0.,  0.,  0.,  1., 16.,\n",
              "       16.,  6.,  0.,  0.,  0.,  0.,  0., 11., 16., 10.,  0.,  0.])"
            ]
          },
          "metadata": {},
          "execution_count": 8
        }
      ]
    },
    {
      "cell_type": "code",
      "source": [
        "digits_data.target"
      ],
      "metadata": {
        "colab": {
          "base_uri": "https://localhost:8080/"
        },
        "id": "fLqFNgeA2URA",
        "outputId": "1792c699-ab4a-44dd-dba2-e5075ec85169"
      },
      "execution_count": null,
      "outputs": [
        {
          "output_type": "execute_result",
          "data": {
            "text/plain": [
              "array([0, 1, 2, ..., 8, 9, 8])"
            ]
          },
          "metadata": {},
          "execution_count": 9
        }
      ]
    },
    {
      "cell_type": "code",
      "source": [
        "# 데이터 분할\n",
        "\n",
        "import torch\n",
        "from sklearn.model_selection import train_test_split\n",
        "\n",
        "digit_images = digits_data.data\n",
        "labels = digits_data.target\n",
        "\n",
        "x_train, x_test, t_train, t_test = train_test_split(digit_images, labels) # 75 : 25\n",
        "\n",
        "# Tensor 로 변환\n",
        "\n",
        "x_train = torch.tensor(x_train, dtype=torch.float32) # 입력: 훈련용\n",
        "t_train = torch.tensor(t_train, dtype=torch.int64) # 정답: 훈련용\n",
        "x_test = torch.tensor(x_test, dtype=torch.float32) # 입력: 테스트용\n",
        "t_test = torch.tensor(t_test, dtype=torch.int64) # 정답: 테스트용"
      ],
      "metadata": {
        "id": "9RSfo1mj1nlT"
      },
      "execution_count": null,
      "outputs": []
    },
    {
      "cell_type": "code",
      "source": [
        "# 모델 구축 : nn.Sequential() 클래스 사용\n",
        "  ## 초기값으로서 nn 모듈에 정의되어 있는 층을 입력에 가까운 층부터 순서대로 나열\n",
        "\n",
        "# nn.Linear(input_size, output_size, bias) : 뉴런이 인접하는 층의 모든 뉴런과 연결되는 FC층\n",
        "\n",
        "from torch import nn\n",
        "\n",
        "net = nn.Sequential(\n",
        "    nn.Linear(64, 32),\n",
        "    nn.ReLU(),\n",
        "    nn.Linear(32, 16),\n",
        "    nn.ReLU(),\n",
        "    nn.Linear(16, 10) # 10 개 클래스로 분류한다.\n",
        ")\n",
        "\n",
        "print(net)\n"
      ],
      "metadata": {
        "colab": {
          "base_uri": "https://localhost:8080/"
        },
        "id": "sjd_kP0b14Qo",
        "outputId": "df120979-9c8e-42fe-c442-292737e6c895"
      },
      "execution_count": null,
      "outputs": [
        {
          "output_type": "stream",
          "name": "stdout",
          "text": [
            "Sequential(\n",
            "  (0): Linear(in_features=64, out_features=32, bias=True)\n",
            "  (1): ReLU()\n",
            "  (2): Linear(in_features=32, out_features=16, bias=True)\n",
            "  (3): ReLU()\n",
            "  (4): Linear(in_features=16, out_features=10, bias=True)\n",
            ")\n"
          ]
        }
      ]
    },
    {
      "cell_type": "code",
      "source": [
        "# 학습 : nn.CrossEntropyLoss(), SGD()\n",
        "  ## 순전파는 훈련데이터와 테스트 데이터 양쪽에서 실시하여 오차를 계산한다.\n",
        "  ## 역전파는 훈련데이터에만 실시한다.\n",
        "\n",
        "from torch import optim\n",
        "\n",
        "# loss function 지정\n",
        "loss_func = nn.CrossEntropyLoss() # softmax + CrossEntropyLoss\n",
        "\n",
        "# Optim 지정\n",
        "optimizer = optim.SGD(net.parameters(), lr=0.01)\n",
        "\n",
        "# loss function log\n",
        "record_loss_train = []\n",
        "record_loss_test = []\n",
        "\n",
        "# 훈련데이터 1000회 사용하기\n",
        "for i in range(1000):\n",
        "  optimizer.zero_grad() # 파라미터 경사 0으로 초기화\n",
        "\n",
        "  # 순전파\n",
        "  y_train = net(x_train)\n",
        "  y_test = net(x_test)\n",
        "\n",
        "  # 오차를 구해서 기록\n",
        "  loss_train = loss_func(y_train, t_train)\n",
        "  loss_test = loss_func(y_test, t_test)\n",
        "\n",
        "  record_loss_train.append(loss_train.item())\n",
        "  record_loss_test.append(loss_test.item())\n",
        "\n",
        "  # 역전파(경사를 계산)\n",
        "  loss_train.backward()\n",
        "\n",
        "  # 파라미터 갱신\n",
        "  optimizer.step()\n",
        "\n",
        "  if i%100 == 0 : # 100 회마다 경과를 표시\n",
        "    print(\"Epoch: \", i,\n",
        "          \"Loss_Train: \", loss_train.item(),\n",
        "          \"Loss_Test: \", loss_test.item())\n",
        "\n",
        "\n"
      ],
      "metadata": {
        "colab": {
          "base_uri": "https://localhost:8080/"
        },
        "id": "RvQ2QtfV3_NE",
        "outputId": "7c09e346-d919-4968-b084-f41fa9087155"
      },
      "execution_count": null,
      "outputs": [
        {
          "output_type": "stream",
          "name": "stdout",
          "text": [
            "Epoch:  0 Loss_Train:  2.5597572326660156 Loss_Test:  2.5588393211364746\n",
            "Epoch:  100 Loss_Train:  1.020634651184082 Loss_Test:  1.044934630393982\n",
            "Epoch:  200 Loss_Train:  0.5006622672080994 Loss_Test:  0.5216238498687744\n",
            "Epoch:  300 Loss_Train:  0.31967583298683167 Loss_Test:  0.3450069725513458\n",
            "Epoch:  400 Loss_Train:  0.23419873416423798 Loss_Test:  0.2681942880153656\n",
            "Epoch:  500 Loss_Train:  0.1843528151512146 Loss_Test:  0.22731412947177887\n",
            "Epoch:  600 Loss_Train:  0.1512538343667984 Loss_Test:  0.2026175558567047\n",
            "Epoch:  700 Loss_Train:  0.1274029165506363 Loss_Test:  0.18654599785804749\n",
            "Epoch:  800 Loss_Train:  0.10906675457954407 Loss_Test:  0.17551927268505096\n",
            "Epoch:  900 Loss_Train:  0.09455417841672897 Loss_Test:  0.1672048270702362\n"
          ]
        }
      ]
    },
    {
      "cell_type": "code",
      "source": [
        "# 오차 추이 확인\n",
        "\n",
        "plt.plot(range(len(record_loss_train)), record_loss_train, label=\"Train\")\n",
        "plt.plot(range(len(record_loss_test)), record_loss_test, label=\"Test\")\n",
        "plt.legend()\n",
        "\n",
        "plt.xlabel(\"Epochs\")\n",
        "plt.ylabel(\"Error\")\n",
        "\n",
        "plt.show()\n"
      ],
      "metadata": {
        "colab": {
          "base_uri": "https://localhost:8080/",
          "height": 449
        },
        "id": "rHik2Lkw50Sd",
        "outputId": "af5f2b66-45d9-4f30-f54f-ab45a9cd5642"
      },
      "execution_count": null,
      "outputs": [
        {
          "output_type": "display_data",
          "data": {
            "text/plain": [
              "<Figure size 640x480 with 1 Axes>"
            ],
            "image/png": "[encoded data removed]"
          },
          "metadata": {}
        }
      ]
    },
    {
      "cell_type": "code",
      "source": [
        "# 정답률\n",
        "\n",
        "y_test = net(x_test)\n",
        "count = (y_test.argmax(1) == t_test).sum().item()\n",
        "print(\"정답률: \", str(count/len(y_test)*100) + \"%\")"
      ],
      "metadata": {
        "colab": {
          "base_uri": "https://localhost:8080/"
        },
        "id": "4MlB7JOQ8vlr",
        "outputId": "abf1b485-51e1-4677-b58e-dc42f0ab6381"
      },
      "execution_count": null,
      "outputs": [
        {
          "output_type": "stream",
          "name": "stdout",
          "text": [
            "정답률:  95.77777777777777%\n"
          ]
        }
      ]
    },
    {
      "cell_type": "code",
      "source": [
        "# 훈련한 모델을 사용한 예측\n",
        "\n",
        "## 입력이미지\n",
        "img_id = 1700\n",
        "x_pred = digit_images[img_id]\n",
        "image = x_pred.reshape(8, 8)\n",
        "\n",
        "plt.imshow(image, cmap=\"Greys_r\")\n",
        "plt.show()\n",
        "\n",
        "x_pred = torch.tensor(x_pred, dtype=torch.float32)\n",
        "y_pred = net(x_pred)\n",
        "print(\"정답: \", labels[img_id],\n",
        "      \"예측 결과: \", y_pred.argmax().item())\n"
      ],
      "metadata": {
        "colab": {
          "base_uri": "https://localhost:8080/",
          "height": 448
        },
        "id": "dbMJ4_pk-xNu",
        "outputId": "94fa3280-1ec9-4268-db32-44951bd132b5"
      },
      "execution_count": null,
      "outputs": [
        {
          "output_type": "display_data",
          "data": {
            "text/plain": [
              "<Figure size 640x480 with 1 Axes>"
            ],
            "image/png": "[encoded data removed]"
          },
          "metadata": {}
        },
        {
          "output_type": "stream",
          "name": "stdout",
          "text": [
            "정답:  5 예측 결과:  5\n"
          ]
        }
      ]
    },
    {
      "cell_type": "markdown",
      "source": [
        "### 연습"
      ],
      "metadata": {
        "id": "15YnlGj4_1wT"
      }
    },
    {
      "cell_type": "code",
      "source": [
        "# 데이터 분할\n",
        "\n",
        "import torch\n",
        "from sklearn import datasets\n",
        "from sklearn.model_selection import train_test_split\n",
        "\n",
        "digits_data = datasets.load_digits()\n",
        "\n",
        "digit_images = digits_data.data\n",
        "labels = digits_data.target\n",
        "\n",
        "x_train, x_test, t_train, t_test = train_test_split(digit_images, labels,\n",
        "                                                    test_size=0.3,\n",
        "                                                    random_state=42)\n",
        "\n",
        "x_train = torch.tensor(x_train, dtype=torch.float32)\n",
        "t_train = torch.tensor(t_train, dtype=torch.int64)\n",
        "x_test = torch.tensor(x_test, dtype=torch.float32)\n",
        "t_test = torch.tensor(t_test, dtype=torch.int64)\n"
      ],
      "metadata": {
        "id": "4HRp0YOn_KYk"
      },
      "execution_count": 27,
      "outputs": []
    },
    {
      "cell_type": "code",
      "source": [
        "# 모델 구축\n",
        "\"\"\"\n",
        "Sequential(\n",
        "  (0): Linear (in_features=64, out_features=128, bias=True)\n",
        "  (1) : ReLU()\n",
        "  (2): Linear (in_features=128, out _features=64, bias-True)\n",
        "  (3): ReLU()\n",
        "  (4): Linear (in_features=64, out_features=10, bias=True)\n",
        ")\n",
        "\n",
        "\"\"\"\n",
        "\n",
        "from torch import nn\n",
        "\n",
        "net = nn.Sequential(\n",
        "    nn.Linear(64, 128, bias=True),\n",
        "    nn.ReLU(),\n",
        "    nn.Linear(128, 64, bias=True),\n",
        "    nn.ReLU(),\n",
        "    nn.Linear(64, 10, bias=True)\n",
        "\n",
        ")\n",
        "\n",
        "print(net)\n"
      ],
      "metadata": {
        "id": "hiPiQj1UAlI5",
        "colab": {
          "base_uri": "https://localhost:8080/"
        },
        "outputId": "0e6624fe-aebb-4c86-edad-3eca3d2ccd01"
      },
      "execution_count": 25,
      "outputs": [
        {
          "output_type": "stream",
          "name": "stdout",
          "text": [
            "Sequential(\n",
            "  (0): Linear(in_features=64, out_features=128, bias=True)\n",
            "  (1): ReLU()\n",
            "  (2): Linear(in_features=128, out_features=64, bias=True)\n",
            "  (3): ReLU()\n",
            "  (4): Linear(in_features=64, out_features=10, bias=True)\n",
            ")\n"
          ]
        }
      ]
    },
    {
      "cell_type": "code",
      "source": [
        "# 학습 : 최적화 알고리즘은 원하는 것으로 선택하면 된다.\n",
        "\n",
        "from torch import optim\n",
        "\n",
        "# 손실함수\n",
        "loss_fnc = nn.CrossEntropyLoss()\n",
        "\n",
        "# 옵티마이저(최적화 알고리즘)\n",
        "optimizer = optim.Adam(net.parameters(), lr=0.001, betas=(0.9, 0.999), weight_decay=0.01)\n",
        "\n",
        "\n",
        "# 손실 로그 만들기\n",
        "record_loss_train = []\n",
        "record_loss_test = []\n",
        "\n",
        "# 1000 에포크 학습\n",
        "for i in range(1000):\n",
        "  # 경사 0으로 초기화\n",
        "  optimizer.zero_grad()\n",
        "\n",
        "  # 순전파\n",
        "  y_train = net(x_train)\n",
        "  y_test = net(x_test)\n",
        "\n",
        "  # 오차 구하기\n",
        "  loss_train = loss_fnc(y_train, t_train)\n",
        "  loss_test = loss_fnc(y_test, t_test)\n",
        "\n",
        "  record_loss_train.append(loss_train.item())\n",
        "  record_loss_test.append(loss_test.item())\n",
        "\n",
        "  # 역전파\n",
        "  loss_train.backward()\n",
        "\n",
        "  # 파라미터 갱신\n",
        "  optimizer.step()\n",
        "\n",
        "  if i%100 ==0 :\n",
        "    print(\"Epoch:\", i, \"Loss_Train:\", loss_train.item(),\n",
        "          \"Loss_Test:\", loss_test.item())\n",
        "\n",
        "\n",
        "\n"
      ],
      "metadata": {
        "id": "dUm5jmG-AmlC",
        "colab": {
          "base_uri": "https://localhost:8080/"
        },
        "outputId": "ba8e3030-4636-48b9-c4f0-87ab5805603d"
      },
      "execution_count": 28,
      "outputs": [
        {
          "output_type": "stream",
          "name": "stdout",
          "text": [
            "Epoch: 0 Loss_Train: 2.4171688556671143 Loss_Test: 2.3872902393341064\n",
            "Epoch: 100 Loss_Train: 0.03588749095797539 Loss_Test: 0.08893771469593048\n",
            "Epoch: 200 Loss_Train: 0.021645372733473778 Loss_Test: 0.07465071976184845\n",
            "Epoch: 300 Loss_Train: 0.019768813624978065 Loss_Test: 0.07022175937891006\n",
            "Epoch: 400 Loss_Train: 0.018744513392448425 Loss_Test: 0.06830669194459915\n",
            "Epoch: 500 Loss_Train: 0.018061887472867966 Loss_Test: 0.06685774773359299\n",
            "Epoch: 600 Loss_Train: 0.017718184739351273 Loss_Test: 0.0659150555729866\n",
            "Epoch: 700 Loss_Train: 0.017474805936217308 Loss_Test: 0.06510055810213089\n",
            "Epoch: 800 Loss_Train: 0.017313053831458092 Loss_Test: 0.06471936404705048\n",
            "Epoch: 900 Loss_Train: 0.017173830419778824 Loss_Test: 0.06474649906158447\n"
          ]
        }
      ]
    },
    {
      "cell_type": "code",
      "source": [
        "# 오차 추이\n",
        "import matplotlib.pyplot as plt\n",
        "\n",
        "plt.plot(range(len(record_loss_train)), record_loss_train, label=\"Train\")\n",
        "plt.plot(range(len(record_loss_test)), record_loss_test, label=\"Test\")\n",
        "plt.legend()\n",
        "\n",
        "plt.xlabel(\"Epochs\")\n",
        "plt.ylabel(\"Error\")\n",
        "plt.show()\n"
      ],
      "metadata": {
        "id": "0BpR66pTAn7f",
        "colab": {
          "base_uri": "https://localhost:8080/",
          "height": 450
        },
        "outputId": "282ff8a4-0f96-4032-ed78-c9f003349798"
      },
      "execution_count": 29,
      "outputs": [
        {
          "output_type": "display_data",
          "data": {
            "text/plain": [
              "<Figure size 640x480 with 1 Axes>"
            ],
            "image/png": "[encoded data removed]"
          },
          "metadata": {}
        }
      ]
    },
    {
      "cell_type": "code",
      "source": [
        "# 정답률 계산\n",
        "y_test = net(x_test)\n",
        "count = (y_test.argmax(1) == t_test).sum().item()\n",
        "\n",
        "print(\"정답률:\", str(count/len(y_test)*100) + \"%\")"
      ],
      "metadata": {
        "id": "POXGECTFAp5Y",
        "colab": {
          "base_uri": "https://localhost:8080/"
        },
        "outputId": "6ab1af28-483a-4d85-90c1-69ca8aae00e6"
      },
      "execution_count": 30,
      "outputs": [
        {
          "output_type": "stream",
          "name": "stdout",
          "text": [
            "정답률: 98.33333333333333%\n"
          ]
        }
      ]
    },
    {
      "cell_type": "code",
      "source": [
        "y_test.argmax(1)"
      ],
      "metadata": {
        "colab": {
          "base_uri": "https://localhost:8080/"
        },
        "id": "sgyajSF0iSTr",
        "outputId": "eb4821e9-ca4e-462c-a8b9-52ce0a2866ee"
      },
      "execution_count": 37,
      "outputs": [
        {
          "output_type": "execute_result",
          "data": {
            "text/plain": [
              "tensor([6, 9, 3, 7, 2, 1, 5, 2, 5, 2, 1, 9, 4, 0, 4, 2, 3, 7, 8, 8, 4, 3, 9, 7,\n",
              "        5, 6, 3, 5, 6, 3, 4, 9, 1, 4, 4, 6, 9, 4, 7, 6, 6, 9, 1, 3, 6, 1, 3, 0,\n",
              "        6, 5, 5, 1, 9, 5, 6, 0, 9, 0, 0, 1, 0, 4, 5, 2, 4, 5, 7, 0, 7, 5, 9, 5,\n",
              "        5, 4, 7, 0, 4, 5, 5, 9, 9, 0, 2, 3, 8, 0, 6, 4, 4, 9, 1, 2, 8, 3, 5, 2,\n",
              "        9, 0, 4, 4, 4, 3, 5, 3, 1, 3, 5, 9, 4, 2, 7, 7, 4, 4, 1, 9, 2, 7, 8, 7,\n",
              "        2, 6, 9, 4, 0, 7, 2, 7, 5, 8, 7, 5, 7, 9, 0, 6, 6, 4, 2, 8, 0, 9, 4, 6,\n",
              "        9, 9, 6, 9, 0, 5, 5, 6, 6, 0, 6, 4, 3, 9, 3, 7, 7, 2, 9, 0, 4, 5, 3, 6,\n",
              "        5, 9, 9, 8, 4, 2, 1, 3, 7, 7, 2, 2, 3, 9, 8, 0, 3, 2, 2, 5, 6, 9, 9, 4,\n",
              "        1, 5, 4, 2, 3, 6, 4, 8, 5, 9, 5, 7, 1, 9, 4, 8, 1, 5, 4, 4, 9, 6, 1, 8,\n",
              "        6, 0, 4, 5, 2, 7, 4, 6, 4, 5, 6, 0, 3, 2, 3, 6, 7, 1, 5, 1, 4, 7, 6, 5,\n",
              "        8, 5, 5, 1, 5, 2, 8, 8, 9, 9, 7, 6, 2, 2, 2, 3, 4, 8, 8, 3, 6, 0, 9, 7,\n",
              "        7, 0, 1, 0, 4, 5, 1, 5, 3, 6, 0, 4, 1, 0, 0, 3, 6, 5, 9, 7, 3, 5, 5, 9,\n",
              "        9, 8, 5, 3, 3, 2, 0, 5, 8, 3, 4, 0, 2, 4, 6, 4, 3, 4, 5, 0, 5, 2, 1, 3,\n",
              "        1, 4, 1, 1, 7, 0, 1, 5, 2, 1, 2, 8, 7, 0, 6, 4, 8, 8, 5, 1, 8, 4, 5, 8,\n",
              "        7, 9, 8, 6, 0, 6, 2, 0, 7, 9, 8, 9, 5, 2, 7, 7, 1, 8, 7, 4, 3, 8, 3, 5,\n",
              "        6, 0, 0, 3, 0, 5, 0, 0, 4, 1, 2, 8, 4, 5, 9, 6, 3, 1, 8, 8, 4, 2, 3, 8,\n",
              "        9, 8, 8, 5, 0, 6, 3, 3, 7, 1, 6, 4, 1, 2, 1, 1, 6, 4, 7, 4, 8, 3, 4, 0,\n",
              "        5, 1, 9, 4, 5, 7, 6, 3, 7, 0, 5, 9, 7, 5, 9, 7, 4, 2, 1, 9, 0, 7, 5, 8,\n",
              "        3, 6, 3, 9, 6, 9, 5, 0, 1, 5, 5, 8, 3, 3, 6, 2, 6, 5, 5, 2, 0, 8, 7, 3,\n",
              "        7, 0, 2, 2, 3, 5, 8, 7, 3, 6, 5, 9, 9, 2, 5, 6, 3, 0, 7, 1, 1, 9, 6, 1,\n",
              "        1, 0, 0, 2, 9, 3, 9, 9, 3, 7, 7, 1, 3, 5, 4, 6, 1, 2, 1, 1, 8, 7, 6, 9,\n",
              "        2, 0, 4, 4, 8, 8, 7, 1, 3, 1, 7, 1, 8, 5, 1, 7, 0, 0, 2, 2, 6, 9, 4, 1,\n",
              "        9, 0, 6, 7, 7, 9, 5, 4, 7, 0, 7, 6])"
            ]
          },
          "metadata": {},
          "execution_count": 37
        }
      ]
    },
    {
      "cell_type": "markdown",
      "source": [
        "### 정답"
      ],
      "metadata": {
        "id": "6_abglNJAviu"
      }
    },
    {
      "cell_type": "code",
      "source": [
        "# 정답 예\n",
        "## 모델구축\n",
        "\n",
        "from torch import nn\n",
        "\n",
        "net = nn.Sequential(\n",
        "    nn.Linear(64, 128),\n",
        "    nn.ReLU(),\n",
        "    nn.Linear(128, 64),\n",
        "    nn.ReLU(),\n",
        "    nn.Linear(64, 10)\n",
        "\n",
        ")\n",
        "\n",
        "# print(net)\n",
        "\n",
        "\n",
        "from torch import optim\n",
        "# 손실함수정의\n",
        "loss_fnc = nn.CrossEntropyLoss()\n",
        "# 옵티마이저 정의\n",
        "optimizer = optim.Adam(net.parameters())\n",
        "\n",
        "# 손실로그 저장\n",
        "record_loss_train = []\n",
        "record_loss_test = []\n",
        "\n",
        "for i in range(1000):\n",
        "  # 경사 초기화\n",
        "  optimizer.zero_grad()\n",
        "  # 순전파\n",
        "  y_train = net(x_train)\n",
        "  y_test = net(x_test)\n",
        "\n",
        "  # 오차계산\n",
        "  loss_train = loss_fnc(y_train, t_train)\n",
        "  loss_test = loss_fnc(y_test, t_test)\n",
        "  record_loss_train.append(loss_train.item())\n",
        "  record_loss_test.append(loss_test.item())\n",
        "  # 역전파\n",
        "  loss_train.backward()\n",
        "  # 파라미터 업데이트\n",
        "  optimizer.step()\n",
        "\n",
        "  if i%100 == 0 :\n",
        "    print(\"Epoch:\", i,\n",
        "          \"Loss Train:\", loss_train.item(),\n",
        "          \"Loss Test:\", loss_test.item())\n",
        "\n",
        "import matplotlib.pyplot as plt\n",
        "\n",
        "plt.plot(range(len(record_loss_train)), record_loss_train, label=\"Train\")\n",
        "plt.plot(range(len(record_loss_test)), record_loss_test, label=\"Test\")\n",
        "plt.legend()\n",
        "\n",
        "plt.xlabel(\"Epoch\")\n",
        "plt.ylabel(\"Error\")\n",
        "plt.show()\n"
      ],
      "metadata": {
        "id": "nuEFvVAuArSE",
        "colab": {
          "base_uri": "https://localhost:8080/",
          "height": 629
        },
        "outputId": "b1cabba4-9fad-4527-fa52-3aeb45af1147"
      },
      "execution_count": 39,
      "outputs": [
        {
          "output_type": "stream",
          "name": "stdout",
          "text": [
            "Epoch: 0 Loss Train: 2.5677473545074463 Loss Test: 2.541933536529541\n",
            "Epoch: 100 Loss Train: 0.022224290296435356 Loss Test: 0.08750700205564499\n",
            "Epoch: 200 Loss Train: 0.0038863089866936207 Loss Test: 0.08284489065408707\n",
            "Epoch: 300 Loss Train: 0.001548352069221437 Loss Test: 0.08559148013591766\n",
            "Epoch: 400 Loss Train: 0.0008346365066245198 Loss Test: 0.08847582340240479\n",
            "Epoch: 500 Loss Train: 0.0005223453626967967 Loss Test: 0.09133072942495346\n",
            "Epoch: 600 Loss Train: 0.00035793741699308157 Loss Test: 0.09394454210996628\n",
            "Epoch: 700 Loss Train: 0.00026081304531544447 Loss Test: 0.09619324654340744\n",
            "Epoch: 800 Loss Train: 0.00019841062021441758 Loss Test: 0.09802006185054779\n",
            "Epoch: 900 Loss Train: 0.0001557325740577653 Loss Test: 0.09974361956119537\n"
          ]
        },
        {
          "output_type": "display_data",
          "data": {
            "text/plain": [
              "<Figure size 640x480 with 1 Axes>"
            ],
            "image/png": "[encoded data removed]"
          },
          "metadata": {}
        }
      ]
    },
    {
      "cell_type": "code",
      "source": [],
      "metadata": {
        "id": "hnWTZRMSl63I"
      },
      "execution_count": null,
      "outputs": []
    }
  ]
}
